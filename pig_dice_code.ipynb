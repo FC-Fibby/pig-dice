{
 "cells": [
  {
   "cell_type": "markdown",
   "id": "dca01883",
   "metadata": {},
   "source": [
    "#PIG DICE CODE"
   ]
  },
  {
   "cell_type": "code",
   "execution_count": null,
   "id": "8a0db39d",
   "metadata": {},
   "outputs": [],
   "source": [
    "from random import randint\n",
    "from time import sleep\n",
    "\n",
    "\n",
    "scoreboard = [0, 0]\n",
    "goal_score = 100\n",
    "is_game_over = False\n",
    "\n",
    "while True:\n",
    "    is_turn_on = True\n",
    "    player_turn_score = 0\n",
    "    rolled = 0\n",
    "    while is_turn_on!='h':\n",
    "        print(\"==============\")\n",
    "        print(\"Player's turn!\")\n",
    "        rolled = randint(1,6)\n",
    "        if rolled==1:\n",
    "            player_turn_score=0\n",
    "            print(\"Oh, you got 1! Ending your turn..\")\n",
    "            break\n",
    "        else:\n",
    "            player_turn_score+=rolled\n",
    "            print(f\"You got {rolled}, and You have {player_turn_score}.\")\n",
    "            if scoreboard[0]+player_turn_score>=goal_score:\n",
    "                is_game_over=True\n",
    "                break\n",
    "            is_turn_on = input(\"Roll(r) or Hold(h)> \").lower()\n",
    "\n",
    "    if is_game_over==True:\n",
    "        print(f\"Congrats! Player have achieved {goal_score}.\")\n",
    "        break\n",
    "    scoreboard[0]+=player_turn_score\n",
    "    print(f'Scoreboard: {scoreboard}')\n",
    "\n",
    "    com_turn_score = 0\n",
    "    rolled=0\n",
    "    while com_turn_score<=30:\n",
    "        print(\"================\")\n",
    "        print(\"Com's Show time!\")\n",
    "        sleep(1)\n",
    "        rolled = randint(1,6)\n",
    "        if rolled==1:\n",
    "            com_turn_score=0\n",
    "            print(\"Uh-oh.. Com got 1.. I got nothin' on this turn..\")\n",
    "            break\n",
    "        else:\n",
    "            com_turn_score+=rolled\n",
    "            print(f\"I got {rolled}, and I have {com_turn_score}.\")\n",
    "            if scoreboard[1]+com_turn_score>=goal_score:\n",
    "                is_game_over=True\n",
    "                break\n",
    "    if is_game_over==True:\n",
    "        print(f\"Game Over! Computer have achieved {goal_score}\")\n",
    "        break\n",
    "    scoreboard[1]+=com_turn_score\n",
    "    print(f'Scoreboard: {scoreboard}')"
   ]
  }
 ],
 "metadata": {
  "kernelspec": {
   "display_name": "Python 3 (ipykernel)",
   "language": "python",
   "name": "python3"
  },
  "language_info": {
   "codemirror_mode": {
    "name": "ipython",
    "version": 3
   },
   "file_extension": ".py",
   "mimetype": "text/x-python",
   "name": "python",
   "nbconvert_exporter": "python",
   "pygments_lexer": "ipython3",
   "version": "3.9.12"
  },
  "toc": {
   "base_numbering": 1,
   "nav_menu": {},
   "number_sections": true,
   "sideBar": true,
   "skip_h1_title": false,
   "title_cell": "Table of Contents",
   "title_sidebar": "Contents",
   "toc_cell": false,
   "toc_position": {},
   "toc_section_display": true,
   "toc_window_display": false
  },
  "varInspector": {
   "cols": {
    "lenName": 16,
    "lenType": 16,
    "lenVar": 40
   },
   "kernels_config": {
    "python": {
     "delete_cmd_postfix": "",
     "delete_cmd_prefix": "del ",
     "library": "var_list.py",
     "varRefreshCmd": "print(var_dic_list())"
    },
    "r": {
     "delete_cmd_postfix": ") ",
     "delete_cmd_prefix": "rm(",
     "library": "var_list.r",
     "varRefreshCmd": "cat(var_dic_list()) "
    }
   },
   "types_to_exclude": [
    "module",
    "function",
    "builtin_function_or_method",
    "instance",
    "_Feature"
   ],
   "window_display": false
  }
 },
 "nbformat": 4,
 "nbformat_minor": 5
}
